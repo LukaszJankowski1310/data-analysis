{
 "cells": [
  {
   "cell_type": "markdown",
   "id": "ce6a609e",
   "metadata": {},
   "source": [
    "# Statystyka i Analiza Danych\n",
    "\n",
    "<b>Łukasz Jankowski </br>\n",
    "Wydział Informatyki i Telekomunikacji </br>\n",
    "Semestr IV, grupa I5.1 </br>\n",
    "Nr albumu: 148081</b>\n",
    "\n"
   ]
  },
  {
   "cell_type": "markdown",
   "id": "4a0418e8",
   "metadata": {},
   "source": [
    "## Opis zbioru\n",
    "\n",
    "Dane przedstawiają liczbę morderstw w latach 2014 i 2015 we miastach Stanów Zjednoczonych z liczbą mieszkańców powyżej 200 tysięcy, liczbę mieszkańców w każdym z miast oraz współczynnik morderstw na 100 tysięcy mieszkańców dla każdego z miast w poszczególnych latach. Dane pochodzą z FBI Uniform Crime Reports.\n",
    "\n"
   ]
  },
  {
   "cell_type": "code",
   "execution_count": 4,
   "id": "e7480cf5",
   "metadata": {
    "scrolled": false
   },
   "outputs": [
    {
     "data": {
      "text/html": [
       "<table class=\"dataframe\">\n",
       "<caption>A data.frame: 83 × 8</caption>\n",
       "<thead>\n",
       "\t<tr><th scope=col>city</th><th scope=col>state</th><th scope=col>X2014_murders</th><th scope=col>X2015_murders</th><th scope=col>change</th><th scope=col>population</th><th scope=col>murder_rate_2014</th><th scope=col>murder_rate_2015</th></tr>\n",
       "\t<tr><th scope=col>&lt;chr&gt;</th><th scope=col>&lt;chr&gt;</th><th scope=col>&lt;int&gt;</th><th scope=col>&lt;int&gt;</th><th scope=col>&lt;int&gt;</th><th scope=col>&lt;int&gt;</th><th scope=col>&lt;dbl&gt;</th><th scope=col>&lt;dbl&gt;</th></tr>\n",
       "</thead>\n",
       "<tbody>\n",
       "\t<tr><td>Baltimore            </td><td>Maryland      </td><td>211</td><td>344</td><td>133</td><td> 620961</td><td>33.979590</td><td>55.398004</td></tr>\n",
       "\t<tr><td>Chicago              </td><td>Illinois      </td><td>411</td><td>478</td><td> 67</td><td>2763076</td><td>14.874727</td><td>17.299560</td></tr>\n",
       "\t<tr><td>Houston              </td><td>Texas         </td><td>242</td><td>303</td><td> 61</td><td>2160821</td><td>11.199447</td><td>14.022448</td></tr>\n",
       "\t<tr><td>Cleveland            </td><td>Ohio          </td><td> 63</td><td>120</td><td> 57</td><td> 372624</td><td>16.907124</td><td>32.204045</td></tr>\n",
       "\t<tr><td>Washington           </td><td>D.C.          </td><td>105</td><td>162</td><td> 57</td><td> 705749</td><td>14.877811</td><td>22.954336</td></tr>\n",
       "\t<tr><td>Milwaukee            </td><td>Wisconsin     </td><td> 90</td><td>145</td><td> 55</td><td> 577222</td><td>15.591921</td><td>25.120318</td></tr>\n",
       "\t<tr><td>Philadelphia         </td><td>Pennsylvania  </td><td>248</td><td>280</td><td> 32</td><td>1569657</td><td>15.799630</td><td>17.838292</td></tr>\n",
       "\t<tr><td>Kansas City          </td><td>Missouri      </td><td> 78</td><td>109</td><td> 31</td><td> 495278</td><td>15.748731</td><td>22.007842</td></tr>\n",
       "\t<tr><td>Nashville            </td><td>Tennessee     </td><td> 41</td><td> 72</td><td> 31</td><td> 689447</td><td> 5.946795</td><td>10.443152</td></tr>\n",
       "\t<tr><td>St. Louis            </td><td>Missouri      </td><td>159</td><td>188</td><td> 29</td><td> 300576</td><td>52.898435</td><td>62.546577</td></tr>\n",
       "\t<tr><td>Oklahoma City        </td><td>Oklahoma      </td><td> 45</td><td> 73</td><td> 28</td><td> 681054</td><td> 6.607406</td><td>10.718680</td></tr>\n",
       "\t<tr><td>Louisville           </td><td>Kentucky      </td><td> 56</td><td> 81</td><td> 25</td><td> 596332</td><td> 9.390742</td><td>13.583038</td></tr>\n",
       "\t<tr><td>Denver               </td><td>Colorado      </td><td> 31</td><td> 53</td><td> 22</td><td> 715522</td><td> 4.332501</td><td> 7.407180</td></tr>\n",
       "\t<tr><td>Los Angeles          </td><td>California    </td><td>260</td><td>282</td><td> 22</td><td>3999759</td><td> 6.500392</td><td> 7.050425</td></tr>\n",
       "\t<tr><td>Dallas               </td><td>Texas         </td><td>116</td><td>136</td><td> 20</td><td>1304379</td><td> 8.893121</td><td>10.426417</td></tr>\n",
       "\t<tr><td>New York             </td><td>New York      </td><td>333</td><td>352</td><td> 19</td><td>8336817</td><td> 3.994330</td><td> 4.222235</td></tr>\n",
       "\t<tr><td>Orlando              </td><td>Florida       </td><td> 15</td><td> 32</td><td> 17</td><td> 287435</td><td> 5.218571</td><td>11.132952</td></tr>\n",
       "\t<tr><td>Minneapolis          </td><td>Minnesota     </td><td> 31</td><td> 47</td><td> 16</td><td> 382578</td><td> 8.102923</td><td>12.285077</td></tr>\n",
       "\t<tr><td>Omaha                </td><td>Nebraska      </td><td> 32</td><td> 48</td><td> 16</td><td> 408958</td><td> 7.824764</td><td>11.737147</td></tr>\n",
       "\t<tr><td>Sacramento           </td><td>California    </td><td> 28</td><td> 43</td><td> 15</td><td> 470956</td><td> 5.945354</td><td> 9.130365</td></tr>\n",
       "\t<tr><td>Anchorage            </td><td>Alaska        </td><td> 12</td><td> 26</td><td> 14</td><td> 279671</td><td> 4.290756</td><td> 9.296638</td></tr>\n",
       "\t<tr><td>Charlotte-Mecklenburg</td><td>North Carolina</td><td> 47</td><td> 61</td><td> 14</td><td> 731424</td><td> 6.425821</td><td> 8.339896</td></tr>\n",
       "\t<tr><td>New Orleans          </td><td>Louisiana     </td><td>150</td><td>164</td><td> 14</td><td> 369250</td><td>40.622884</td><td>44.414353</td></tr>\n",
       "\t<tr><td>Albuquerque          </td><td>New Mexico    </td><td> 30</td><td> 43</td><td> 13</td><td> 564599</td><td> 5.313506</td><td> 7.616025</td></tr>\n",
       "\t<tr><td>Aurora               </td><td>Colorado      </td><td> 11</td><td> 24</td><td> 13</td><td> 386261</td><td> 2.847815</td><td> 6.213415</td></tr>\n",
       "\t<tr><td>Fort Wayne           </td><td>Indiana       </td><td> 12</td><td> 25</td><td> 13</td><td> 223341</td><td> 5.372950</td><td>11.193646</td></tr>\n",
       "\t<tr><td>Long Beach           </td><td>California    </td><td> 23</td><td> 36</td><td> 13</td><td> 462257</td><td> 4.975587</td><td> 7.787876</td></tr>\n",
       "\t<tr><td>Durham               </td><td>North Carolina</td><td> 21</td><td> 34</td><td> 13</td><td> 217847</td><td> 9.639793</td><td>15.607284</td></tr>\n",
       "\t<tr><td>Indianapolis         </td><td>Indiana       </td><td>136</td><td>148</td><td> 12</td><td> 807584</td><td>16.840353</td><td>18.326267</td></tr>\n",
       "\t<tr><td>Newark               </td><td>New Jersey    </td><td> 93</td><td>104</td><td> 11</td><td> 279000</td><td>33.333333</td><td>37.275986</td></tr>\n",
       "\t<tr><td>...</td><td>...</td><td>...</td><td>...</td><td>...</td><td>...</td><td>...</td><td>...</td></tr>\n",
       "\t<tr><td>Chandler      </td><td>Arizona      </td><td>  1</td><td>  1</td><td>  0</td><td> 275987</td><td> 0.3623359</td><td> 0.3623359</td></tr>\n",
       "\t<tr><td>Plano         </td><td>Texas        </td><td>  4</td><td>  4</td><td>  0</td><td> 285494</td><td> 1.4010802</td><td> 1.4010802</td></tr>\n",
       "\t<tr><td>Stockton      </td><td>California   </td><td> 49</td><td> 49</td><td>  0</td><td> 291707</td><td>16.7976771</td><td>16.7976771</td></tr>\n",
       "\t<tr><td>Toledo        </td><td>Ohio         </td><td> 24</td><td> 24</td><td>  0</td><td> 270871</td><td> 8.8603062</td><td> 8.8603062</td></tr>\n",
       "\t<tr><td>Chula Vista   </td><td>California   </td><td>  7</td><td>  6</td><td> -1</td><td> 275487</td><td> 2.5409547</td><td> 2.1779612</td></tr>\n",
       "\t<tr><td>Phoenix       </td><td>Arizona      </td><td>114</td><td>112</td><td> -2</td><td>1608139</td><td> 7.0889395</td><td> 6.9645721</td></tr>\n",
       "\t<tr><td>Riverside     </td><td>California   </td><td> 12</td><td> 10</td><td> -2</td><td> 303871</td><td> 3.9490442</td><td> 3.2908701</td></tr>\n",
       "\t<tr><td>San Jose      </td><td>California   </td><td> 32</td><td> 30</td><td> -2</td><td>1035317</td><td> 3.0908408</td><td> 2.8976632</td></tr>\n",
       "\t<tr><td>Detroit       </td><td>Michigan     </td><td>298</td><td>295</td><td> -3</td><td> 690074</td><td>43.1837745</td><td>42.7490385</td></tr>\n",
       "\t<tr><td>Seattle       </td><td>Washington   </td><td> 26</td><td> 23</td><td> -3</td><td> 713211</td><td> 3.6454850</td><td> 3.2248521</td></tr>\n",
       "\t<tr><td>El Paso       </td><td>Texas        </td><td> 21</td><td> 17</td><td> -4</td><td> 678815</td><td> 3.0936264</td><td> 2.5043642</td></tr>\n",
       "\t<tr><td>Tucson        </td><td>Arizona      </td><td> 35</td><td> 31</td><td> -4</td><td> 520116</td><td> 6.7292681</td><td> 5.9602089</td></tr>\n",
       "\t<tr><td>Arlington     </td><td>Texas        </td><td> 13</td><td>  8</td><td> -5</td><td> 394266</td><td> 3.2972663</td><td> 2.0290870</td></tr>\n",
       "\t<tr><td>Lexington     </td><td>Kentucky     </td><td> 20</td><td> 15</td><td> -5</td><td> 394266</td><td> 5.0727174</td><td> 3.8045381</td></tr>\n",
       "\t<tr><td>Memphis       </td><td>Tennessee    </td><td>140</td><td>135</td><td> -5</td><td> 633104</td><td>22.1132705</td><td>21.3235108</td></tr>\n",
       "\t<tr><td>St. Petersburg</td><td>Florida      </td><td> 19</td><td> 14</td><td> -5</td><td> 265358</td><td> 7.1601384</td><td> 5.2758914</td></tr>\n",
       "\t<tr><td>Columbus      </td><td>Ohio         </td><td> 83</td><td> 77</td><td> -6</td><td> 902073</td><td> 9.2010292</td><td> 8.5358945</td></tr>\n",
       "\t<tr><td>Honolulu      </td><td>Hawaii       </td><td> 21</td><td> 15</td><td> -6</td><td> 343302</td><td> 6.1170631</td><td> 4.3693308</td></tr>\n",
       "\t<tr><td>Laredo        </td><td>Texas        </td><td> 14</td><td>  8</td><td> -6</td><td> 255205</td><td> 5.4857859</td><td> 3.1347348</td></tr>\n",
       "\t<tr><td>Lincoln       </td><td>Nebraska     </td><td>  7</td><td>  1</td><td> -6</td><td> 258379</td><td> 2.7091985</td><td> 0.3870284</td></tr>\n",
       "\t<tr><td>Miami         </td><td>Florida      </td><td> 81</td><td> 75</td><td> -6</td><td> 467963</td><td>17.3090608</td><td>16.0269081</td></tr>\n",
       "\t<tr><td>Santa Ana     </td><td>California   </td><td> 18</td><td> 12</td><td> -6</td><td> 334227</td><td> 5.3855613</td><td> 3.5903742</td></tr>\n",
       "\t<tr><td>Mobile        </td><td>Alabama      </td><td> 31</td><td> 24</td><td> -7</td><td> 188720</td><td>16.4264519</td><td>12.7172531</td></tr>\n",
       "\t<tr><td>Fresno        </td><td>California   </td><td> 47</td><td> 39</td><td> -8</td><td> 542107</td><td> 8.6698751</td><td> 7.1941517</td></tr>\n",
       "\t<tr><td>Austin        </td><td>Texas        </td><td> 32</td><td> 23</td><td> -9</td><td> 961855</td><td> 3.3269048</td><td> 2.3912128</td></tr>\n",
       "\t<tr><td>San Antonio   </td><td>Texas        </td><td>103</td><td> 94</td><td> -9</td><td>1434625</td><td> 7.1795765</td><td> 6.5522349</td></tr>\n",
       "\t<tr><td>Corpus Christi</td><td>Texas        </td><td> 27</td><td> 17</td><td>-10</td><td> 317863</td><td> 8.4942255</td><td> 5.3482161</td></tr>\n",
       "\t<tr><td>Pittsburgh    </td><td>Pennsylvania </td><td> 69</td><td> 57</td><td>-12</td><td> 302971</td><td>22.7744570</td><td>18.8136818</td></tr>\n",
       "\t<tr><td>Boston        </td><td>Massachusetts</td><td> 53</td><td> 38</td><td>-15</td><td> 675647</td><td> 7.8443329</td><td> 5.6242387</td></tr>\n",
       "\t<tr><td>Buffalo       </td><td>New York     </td><td> 60</td><td> 41</td><td>-19</td><td> 278349</td><td>21.5556729</td><td>14.7297098</td></tr>\n",
       "</tbody>\n",
       "</table>\n"
      ],
      "text/latex": [
       "A data.frame: 83 × 8\n",
       "\\begin{tabular}{llllllll}\n",
       " city & state & X2014\\_murders & X2015\\_murders & change & population & murder\\_rate\\_2014 & murder\\_rate\\_2015\\\\\n",
       " <chr> & <chr> & <int> & <int> & <int> & <int> & <dbl> & <dbl>\\\\\n",
       "\\hline\n",
       "\t Baltimore             & Maryland       & 211 & 344 & 133 &  620961 & 33.979590 & 55.398004\\\\\n",
       "\t Chicago               & Illinois       & 411 & 478 &  67 & 2763076 & 14.874727 & 17.299560\\\\\n",
       "\t Houston               & Texas          & 242 & 303 &  61 & 2160821 & 11.199447 & 14.022448\\\\\n",
       "\t Cleveland             & Ohio           &  63 & 120 &  57 &  372624 & 16.907124 & 32.204045\\\\\n",
       "\t Washington            & D.C.           & 105 & 162 &  57 &  705749 & 14.877811 & 22.954336\\\\\n",
       "\t Milwaukee             & Wisconsin      &  90 & 145 &  55 &  577222 & 15.591921 & 25.120318\\\\\n",
       "\t Philadelphia          & Pennsylvania   & 248 & 280 &  32 & 1569657 & 15.799630 & 17.838292\\\\\n",
       "\t Kansas City           & Missouri       &  78 & 109 &  31 &  495278 & 15.748731 & 22.007842\\\\\n",
       "\t Nashville             & Tennessee      &  41 &  72 &  31 &  689447 &  5.946795 & 10.443152\\\\\n",
       "\t St. Louis             & Missouri       & 159 & 188 &  29 &  300576 & 52.898435 & 62.546577\\\\\n",
       "\t Oklahoma City         & Oklahoma       &  45 &  73 &  28 &  681054 &  6.607406 & 10.718680\\\\\n",
       "\t Louisville            & Kentucky       &  56 &  81 &  25 &  596332 &  9.390742 & 13.583038\\\\\n",
       "\t Denver                & Colorado       &  31 &  53 &  22 &  715522 &  4.332501 &  7.407180\\\\\n",
       "\t Los Angeles           & California     & 260 & 282 &  22 & 3999759 &  6.500392 &  7.050425\\\\\n",
       "\t Dallas                & Texas          & 116 & 136 &  20 & 1304379 &  8.893121 & 10.426417\\\\\n",
       "\t New York              & New York       & 333 & 352 &  19 & 8336817 &  3.994330 &  4.222235\\\\\n",
       "\t Orlando               & Florida        &  15 &  32 &  17 &  287435 &  5.218571 & 11.132952\\\\\n",
       "\t Minneapolis           & Minnesota      &  31 &  47 &  16 &  382578 &  8.102923 & 12.285077\\\\\n",
       "\t Omaha                 & Nebraska       &  32 &  48 &  16 &  408958 &  7.824764 & 11.737147\\\\\n",
       "\t Sacramento            & California     &  28 &  43 &  15 &  470956 &  5.945354 &  9.130365\\\\\n",
       "\t Anchorage             & Alaska         &  12 &  26 &  14 &  279671 &  4.290756 &  9.296638\\\\\n",
       "\t Charlotte-Mecklenburg & North Carolina &  47 &  61 &  14 &  731424 &  6.425821 &  8.339896\\\\\n",
       "\t New Orleans           & Louisiana      & 150 & 164 &  14 &  369250 & 40.622884 & 44.414353\\\\\n",
       "\t Albuquerque           & New Mexico     &  30 &  43 &  13 &  564599 &  5.313506 &  7.616025\\\\\n",
       "\t Aurora                & Colorado       &  11 &  24 &  13 &  386261 &  2.847815 &  6.213415\\\\\n",
       "\t Fort Wayne            & Indiana        &  12 &  25 &  13 &  223341 &  5.372950 & 11.193646\\\\\n",
       "\t Long Beach            & California     &  23 &  36 &  13 &  462257 &  4.975587 &  7.787876\\\\\n",
       "\t Durham                & North Carolina &  21 &  34 &  13 &  217847 &  9.639793 & 15.607284\\\\\n",
       "\t Indianapolis          & Indiana        & 136 & 148 &  12 &  807584 & 16.840353 & 18.326267\\\\\n",
       "\t Newark                & New Jersey     &  93 & 104 &  11 &  279000 & 33.333333 & 37.275986\\\\\n",
       "\t ... & ... & ... & ... & ... & ... & ... & ...\\\\\n",
       "\t Chandler       & Arizona       &   1 &   1 &   0 &  275987 &  0.3623359 &  0.3623359\\\\\n",
       "\t Plano          & Texas         &   4 &   4 &   0 &  285494 &  1.4010802 &  1.4010802\\\\\n",
       "\t Stockton       & California    &  49 &  49 &   0 &  291707 & 16.7976771 & 16.7976771\\\\\n",
       "\t Toledo         & Ohio          &  24 &  24 &   0 &  270871 &  8.8603062 &  8.8603062\\\\\n",
       "\t Chula Vista    & California    &   7 &   6 &  -1 &  275487 &  2.5409547 &  2.1779612\\\\\n",
       "\t Phoenix        & Arizona       & 114 & 112 &  -2 & 1608139 &  7.0889395 &  6.9645721\\\\\n",
       "\t Riverside      & California    &  12 &  10 &  -2 &  303871 &  3.9490442 &  3.2908701\\\\\n",
       "\t San Jose       & California    &  32 &  30 &  -2 & 1035317 &  3.0908408 &  2.8976632\\\\\n",
       "\t Detroit        & Michigan      & 298 & 295 &  -3 &  690074 & 43.1837745 & 42.7490385\\\\\n",
       "\t Seattle        & Washington    &  26 &  23 &  -3 &  713211 &  3.6454850 &  3.2248521\\\\\n",
       "\t El Paso        & Texas         &  21 &  17 &  -4 &  678815 &  3.0936264 &  2.5043642\\\\\n",
       "\t Tucson         & Arizona       &  35 &  31 &  -4 &  520116 &  6.7292681 &  5.9602089\\\\\n",
       "\t Arlington      & Texas         &  13 &   8 &  -5 &  394266 &  3.2972663 &  2.0290870\\\\\n",
       "\t Lexington      & Kentucky      &  20 &  15 &  -5 &  394266 &  5.0727174 &  3.8045381\\\\\n",
       "\t Memphis        & Tennessee     & 140 & 135 &  -5 &  633104 & 22.1132705 & 21.3235108\\\\\n",
       "\t St. Petersburg & Florida       &  19 &  14 &  -5 &  265358 &  7.1601384 &  5.2758914\\\\\n",
       "\t Columbus       & Ohio          &  83 &  77 &  -6 &  902073 &  9.2010292 &  8.5358945\\\\\n",
       "\t Honolulu       & Hawaii        &  21 &  15 &  -6 &  343302 &  6.1170631 &  4.3693308\\\\\n",
       "\t Laredo         & Texas         &  14 &   8 &  -6 &  255205 &  5.4857859 &  3.1347348\\\\\n",
       "\t Lincoln        & Nebraska      &   7 &   1 &  -6 &  258379 &  2.7091985 &  0.3870284\\\\\n",
       "\t Miami          & Florida       &  81 &  75 &  -6 &  467963 & 17.3090608 & 16.0269081\\\\\n",
       "\t Santa Ana      & California    &  18 &  12 &  -6 &  334227 &  5.3855613 &  3.5903742\\\\\n",
       "\t Mobile         & Alabama       &  31 &  24 &  -7 &  188720 & 16.4264519 & 12.7172531\\\\\n",
       "\t Fresno         & California    &  47 &  39 &  -8 &  542107 &  8.6698751 &  7.1941517\\\\\n",
       "\t Austin         & Texas         &  32 &  23 &  -9 &  961855 &  3.3269048 &  2.3912128\\\\\n",
       "\t San Antonio    & Texas         & 103 &  94 &  -9 & 1434625 &  7.1795765 &  6.5522349\\\\\n",
       "\t Corpus Christi & Texas         &  27 &  17 & -10 &  317863 &  8.4942255 &  5.3482161\\\\\n",
       "\t Pittsburgh     & Pennsylvania  &  69 &  57 & -12 &  302971 & 22.7744570 & 18.8136818\\\\\n",
       "\t Boston         & Massachusetts &  53 &  38 & -15 &  675647 &  7.8443329 &  5.6242387\\\\\n",
       "\t Buffalo        & New York      &  60 &  41 & -19 &  278349 & 21.5556729 & 14.7297098\\\\\n",
       "\\end{tabular}\n"
      ],
      "text/markdown": [
       "\n",
       "A data.frame: 83 × 8\n",
       "\n",
       "| city &lt;chr&gt; | state &lt;chr&gt; | X2014_murders &lt;int&gt; | X2015_murders &lt;int&gt; | change &lt;int&gt; | population &lt;int&gt; | murder_rate_2014 &lt;dbl&gt; | murder_rate_2015 &lt;dbl&gt; |\n",
       "|---|---|---|---|---|---|---|---|\n",
       "| Baltimore             | Maryland       | 211 | 344 | 133 |  620961 | 33.979590 | 55.398004 |\n",
       "| Chicago               | Illinois       | 411 | 478 |  67 | 2763076 | 14.874727 | 17.299560 |\n",
       "| Houston               | Texas          | 242 | 303 |  61 | 2160821 | 11.199447 | 14.022448 |\n",
       "| Cleveland             | Ohio           |  63 | 120 |  57 |  372624 | 16.907124 | 32.204045 |\n",
       "| Washington            | D.C.           | 105 | 162 |  57 |  705749 | 14.877811 | 22.954336 |\n",
       "| Milwaukee             | Wisconsin      |  90 | 145 |  55 |  577222 | 15.591921 | 25.120318 |\n",
       "| Philadelphia          | Pennsylvania   | 248 | 280 |  32 | 1569657 | 15.799630 | 17.838292 |\n",
       "| Kansas City           | Missouri       |  78 | 109 |  31 |  495278 | 15.748731 | 22.007842 |\n",
       "| Nashville             | Tennessee      |  41 |  72 |  31 |  689447 |  5.946795 | 10.443152 |\n",
       "| St. Louis             | Missouri       | 159 | 188 |  29 |  300576 | 52.898435 | 62.546577 |\n",
       "| Oklahoma City         | Oklahoma       |  45 |  73 |  28 |  681054 |  6.607406 | 10.718680 |\n",
       "| Louisville            | Kentucky       |  56 |  81 |  25 |  596332 |  9.390742 | 13.583038 |\n",
       "| Denver                | Colorado       |  31 |  53 |  22 |  715522 |  4.332501 |  7.407180 |\n",
       "| Los Angeles           | California     | 260 | 282 |  22 | 3999759 |  6.500392 |  7.050425 |\n",
       "| Dallas                | Texas          | 116 | 136 |  20 | 1304379 |  8.893121 | 10.426417 |\n",
       "| New York              | New York       | 333 | 352 |  19 | 8336817 |  3.994330 |  4.222235 |\n",
       "| Orlando               | Florida        |  15 |  32 |  17 |  287435 |  5.218571 | 11.132952 |\n",
       "| Minneapolis           | Minnesota      |  31 |  47 |  16 |  382578 |  8.102923 | 12.285077 |\n",
       "| Omaha                 | Nebraska       |  32 |  48 |  16 |  408958 |  7.824764 | 11.737147 |\n",
       "| Sacramento            | California     |  28 |  43 |  15 |  470956 |  5.945354 |  9.130365 |\n",
       "| Anchorage             | Alaska         |  12 |  26 |  14 |  279671 |  4.290756 |  9.296638 |\n",
       "| Charlotte-Mecklenburg | North Carolina |  47 |  61 |  14 |  731424 |  6.425821 |  8.339896 |\n",
       "| New Orleans           | Louisiana      | 150 | 164 |  14 |  369250 | 40.622884 | 44.414353 |\n",
       "| Albuquerque           | New Mexico     |  30 |  43 |  13 |  564599 |  5.313506 |  7.616025 |\n",
       "| Aurora                | Colorado       |  11 |  24 |  13 |  386261 |  2.847815 |  6.213415 |\n",
       "| Fort Wayne            | Indiana        |  12 |  25 |  13 |  223341 |  5.372950 | 11.193646 |\n",
       "| Long Beach            | California     |  23 |  36 |  13 |  462257 |  4.975587 |  7.787876 |\n",
       "| Durham                | North Carolina |  21 |  34 |  13 |  217847 |  9.639793 | 15.607284 |\n",
       "| Indianapolis          | Indiana        | 136 | 148 |  12 |  807584 | 16.840353 | 18.326267 |\n",
       "| Newark                | New Jersey     |  93 | 104 |  11 |  279000 | 33.333333 | 37.275986 |\n",
       "| ... | ... | ... | ... | ... | ... | ... | ... |\n",
       "| Chandler       | Arizona       |   1 |   1 |   0 |  275987 |  0.3623359 |  0.3623359 |\n",
       "| Plano          | Texas         |   4 |   4 |   0 |  285494 |  1.4010802 |  1.4010802 |\n",
       "| Stockton       | California    |  49 |  49 |   0 |  291707 | 16.7976771 | 16.7976771 |\n",
       "| Toledo         | Ohio          |  24 |  24 |   0 |  270871 |  8.8603062 |  8.8603062 |\n",
       "| Chula Vista    | California    |   7 |   6 |  -1 |  275487 |  2.5409547 |  2.1779612 |\n",
       "| Phoenix        | Arizona       | 114 | 112 |  -2 | 1608139 |  7.0889395 |  6.9645721 |\n",
       "| Riverside      | California    |  12 |  10 |  -2 |  303871 |  3.9490442 |  3.2908701 |\n",
       "| San Jose       | California    |  32 |  30 |  -2 | 1035317 |  3.0908408 |  2.8976632 |\n",
       "| Detroit        | Michigan      | 298 | 295 |  -3 |  690074 | 43.1837745 | 42.7490385 |\n",
       "| Seattle        | Washington    |  26 |  23 |  -3 |  713211 |  3.6454850 |  3.2248521 |\n",
       "| El Paso        | Texas         |  21 |  17 |  -4 |  678815 |  3.0936264 |  2.5043642 |\n",
       "| Tucson         | Arizona       |  35 |  31 |  -4 |  520116 |  6.7292681 |  5.9602089 |\n",
       "| Arlington      | Texas         |  13 |   8 |  -5 |  394266 |  3.2972663 |  2.0290870 |\n",
       "| Lexington      | Kentucky      |  20 |  15 |  -5 |  394266 |  5.0727174 |  3.8045381 |\n",
       "| Memphis        | Tennessee     | 140 | 135 |  -5 |  633104 | 22.1132705 | 21.3235108 |\n",
       "| St. Petersburg | Florida       |  19 |  14 |  -5 |  265358 |  7.1601384 |  5.2758914 |\n",
       "| Columbus       | Ohio          |  83 |  77 |  -6 |  902073 |  9.2010292 |  8.5358945 |\n",
       "| Honolulu       | Hawaii        |  21 |  15 |  -6 |  343302 |  6.1170631 |  4.3693308 |\n",
       "| Laredo         | Texas         |  14 |   8 |  -6 |  255205 |  5.4857859 |  3.1347348 |\n",
       "| Lincoln        | Nebraska      |   7 |   1 |  -6 |  258379 |  2.7091985 |  0.3870284 |\n",
       "| Miami          | Florida       |  81 |  75 |  -6 |  467963 | 17.3090608 | 16.0269081 |\n",
       "| Santa Ana      | California    |  18 |  12 |  -6 |  334227 |  5.3855613 |  3.5903742 |\n",
       "| Mobile         | Alabama       |  31 |  24 |  -7 |  188720 | 16.4264519 | 12.7172531 |\n",
       "| Fresno         | California    |  47 |  39 |  -8 |  542107 |  8.6698751 |  7.1941517 |\n",
       "| Austin         | Texas         |  32 |  23 |  -9 |  961855 |  3.3269048 |  2.3912128 |\n",
       "| San Antonio    | Texas         | 103 |  94 |  -9 | 1434625 |  7.1795765 |  6.5522349 |\n",
       "| Corpus Christi | Texas         |  27 |  17 | -10 |  317863 |  8.4942255 |  5.3482161 |\n",
       "| Pittsburgh     | Pennsylvania  |  69 |  57 | -12 |  302971 | 22.7744570 | 18.8136818 |\n",
       "| Boston         | Massachusetts |  53 |  38 | -15 |  675647 |  7.8443329 |  5.6242387 |\n",
       "| Buffalo        | New York      |  60 |  41 | -19 |  278349 | 21.5556729 | 14.7297098 |\n",
       "\n"
      ],
      "text/plain": [
       "    city                  state          X2014_murders X2015_murders change\n",
       "1   Baltimore             Maryland       211           344           133   \n",
       "2   Chicago               Illinois       411           478            67   \n",
       "3   Houston               Texas          242           303            61   \n",
       "4   Cleveland             Ohio            63           120            57   \n",
       "5   Washington            D.C.           105           162            57   \n",
       "6   Milwaukee             Wisconsin       90           145            55   \n",
       "7   Philadelphia          Pennsylvania   248           280            32   \n",
       "8   Kansas City           Missouri        78           109            31   \n",
       "9   Nashville             Tennessee       41            72            31   \n",
       "10  St. Louis             Missouri       159           188            29   \n",
       "11  Oklahoma City         Oklahoma        45            73            28   \n",
       "12  Louisville            Kentucky        56            81            25   \n",
       "13  Denver                Colorado        31            53            22   \n",
       "14  Los Angeles           California     260           282            22   \n",
       "15  Dallas                Texas          116           136            20   \n",
       "16  New York              New York       333           352            19   \n",
       "17  Orlando               Florida         15            32            17   \n",
       "18  Minneapolis           Minnesota       31            47            16   \n",
       "19  Omaha                 Nebraska        32            48            16   \n",
       "20  Sacramento            California      28            43            15   \n",
       "21  Anchorage             Alaska          12            26            14   \n",
       "22  Charlotte-Mecklenburg North Carolina  47            61            14   \n",
       "23  New Orleans           Louisiana      150           164            14   \n",
       "24  Albuquerque           New Mexico      30            43            13   \n",
       "25  Aurora                Colorado        11            24            13   \n",
       "26  Fort Wayne            Indiana         12            25            13   \n",
       "27  Long Beach            California      23            36            13   \n",
       "28  Durham                North Carolina  21            34            13   \n",
       "29  Indianapolis          Indiana        136           148            12   \n",
       "30  Newark                New Jersey      93           104            11   \n",
       "... ...                   ...            ...           ...           ...   \n",
       "54  Chandler              Arizona          1             1             0   \n",
       "55  Plano                 Texas            4             4             0   \n",
       "56  Stockton              California      49            49             0   \n",
       "57  Toledo                Ohio            24            24             0   \n",
       "58  Chula Vista           California       7             6            -1   \n",
       "59  Phoenix               Arizona        114           112            -2   \n",
       "60  Riverside             California      12            10            -2   \n",
       "61  San Jose              California      32            30            -2   \n",
       "62  Detroit               Michigan       298           295            -3   \n",
       "63  Seattle               Washington      26            23            -3   \n",
       "64  El Paso               Texas           21            17            -4   \n",
       "65  Tucson                Arizona         35            31            -4   \n",
       "66  Arlington             Texas           13             8            -5   \n",
       "67  Lexington             Kentucky        20            15            -5   \n",
       "68  Memphis               Tennessee      140           135            -5   \n",
       "69  St. Petersburg        Florida         19            14            -5   \n",
       "70  Columbus              Ohio            83            77            -6   \n",
       "71  Honolulu              Hawaii          21            15            -6   \n",
       "72  Laredo                Texas           14             8            -6   \n",
       "73  Lincoln               Nebraska         7             1            -6   \n",
       "74  Miami                 Florida         81            75            -6   \n",
       "75  Santa Ana             California      18            12            -6   \n",
       "76  Mobile                Alabama         31            24            -7   \n",
       "77  Fresno                California      47            39            -8   \n",
       "78  Austin                Texas           32            23            -9   \n",
       "79  San Antonio           Texas          103            94            -9   \n",
       "80  Corpus Christi        Texas           27            17           -10   \n",
       "81  Pittsburgh            Pennsylvania    69            57           -12   \n",
       "82  Boston                Massachusetts   53            38           -15   \n",
       "83  Buffalo               New York        60            41           -19   \n",
       "    population murder_rate_2014 murder_rate_2015\n",
       "1    620961    33.979590        55.398004       \n",
       "2   2763076    14.874727        17.299560       \n",
       "3   2160821    11.199447        14.022448       \n",
       "4    372624    16.907124        32.204045       \n",
       "5    705749    14.877811        22.954336       \n",
       "6    577222    15.591921        25.120318       \n",
       "7   1569657    15.799630        17.838292       \n",
       "8    495278    15.748731        22.007842       \n",
       "9    689447     5.946795        10.443152       \n",
       "10   300576    52.898435        62.546577       \n",
       "11   681054     6.607406        10.718680       \n",
       "12   596332     9.390742        13.583038       \n",
       "13   715522     4.332501         7.407180       \n",
       "14  3999759     6.500392         7.050425       \n",
       "15  1304379     8.893121        10.426417       \n",
       "16  8336817     3.994330         4.222235       \n",
       "17   287435     5.218571        11.132952       \n",
       "18   382578     8.102923        12.285077       \n",
       "19   408958     7.824764        11.737147       \n",
       "20   470956     5.945354         9.130365       \n",
       "21   279671     4.290756         9.296638       \n",
       "22   731424     6.425821         8.339896       \n",
       "23   369250    40.622884        44.414353       \n",
       "24   564599     5.313506         7.616025       \n",
       "25   386261     2.847815         6.213415       \n",
       "26   223341     5.372950        11.193646       \n",
       "27   462257     4.975587         7.787876       \n",
       "28   217847     9.639793        15.607284       \n",
       "29   807584    16.840353        18.326267       \n",
       "30   279000    33.333333        37.275986       \n",
       "... ...        ...              ...             \n",
       "54   275987     0.3623359        0.3623359      \n",
       "55   285494     1.4010802        1.4010802      \n",
       "56   291707    16.7976771       16.7976771      \n",
       "57   270871     8.8603062        8.8603062      \n",
       "58   275487     2.5409547        2.1779612      \n",
       "59  1608139     7.0889395        6.9645721      \n",
       "60   303871     3.9490442        3.2908701      \n",
       "61  1035317     3.0908408        2.8976632      \n",
       "62   690074    43.1837745       42.7490385      \n",
       "63   713211     3.6454850        3.2248521      \n",
       "64   678815     3.0936264        2.5043642      \n",
       "65   520116     6.7292681        5.9602089      \n",
       "66   394266     3.2972663        2.0290870      \n",
       "67   394266     5.0727174        3.8045381      \n",
       "68   633104    22.1132705       21.3235108      \n",
       "69   265358     7.1601384        5.2758914      \n",
       "70   902073     9.2010292        8.5358945      \n",
       "71   343302     6.1170631        4.3693308      \n",
       "72   255205     5.4857859        3.1347348      \n",
       "73   258379     2.7091985        0.3870284      \n",
       "74   467963    17.3090608       16.0269081      \n",
       "75   334227     5.3855613        3.5903742      \n",
       "76   188720    16.4264519       12.7172531      \n",
       "77   542107     8.6698751        7.1941517      \n",
       "78   961855     3.3269048        2.3912128      \n",
       "79  1434625     7.1795765        6.5522349      \n",
       "80   317863     8.4942255        5.3482161      \n",
       "81   302971    22.7744570       18.8136818      \n",
       "82   675647     7.8443329        5.6242387      \n",
       "83   278349    21.5556729       14.7297098      "
      ]
     },
     "metadata": {},
     "output_type": "display_data"
    }
   ],
   "source": [
    "(data <- read.csv(\"Dane.csv\"))"
   ]
  },
  {
   "cell_type": "code",
   "execution_count": 5,
   "id": "25921fbb",
   "metadata": {},
   "outputs": [],
   "source": [
    "city <- c(data$city)\n",
    "state <-c(data$state)\n",
    "murders_2014 <- c(data$X2014_murders)\n",
    "murders_2015 <- c(data$X2015_murders)\n",
    "diff <- c(data$change)\n",
    "population <- c(data$population)\n",
    "murders_rate_2014 <- c(data$murder_rate_2014)\n",
    "murders_rate_2015  <- c(data$murder_rate_2015)\n",
    "diff_rate <- murders_rate_2015 - murders_rate_2014"
   ]
  },
  {
   "cell_type": "markdown",
   "id": "c5853389",
   "metadata": {},
   "source": [
    "### Analiza eksploracyjna"
   ]
  },
  {
   "cell_type": "markdown",
   "id": "6c4b357e",
   "metadata": {},
   "source": [
    "#### Miary położenia "
   ]
  },
  {
   "cell_type": "code",
   "execution_count": 6,
   "id": "271f1c5e",
   "metadata": {},
   "outputs": [
    {
     "data": {
      "text/plain": [
       "   Min. 1st Qu.  Median    Mean 3rd Qu.    Max. \n",
       "  0.000   4.170   6.729  10.248  14.876  52.898 "
      ]
     },
     "metadata": {},
     "output_type": "display_data"
    },
    {
     "data": {
      "text/plain": [
       "   Min. 1st Qu.  Median    Mean 3rd Qu.    Max. \n",
       " 0.3623  4.7900  8.3399 11.7943 15.1685 62.5466 "
      ]
     },
     "metadata": {},
     "output_type": "display_data"
    },
    {
     "data": {
      "text/plain": [
       "   Min. 1st Qu.  Median    Mean 3rd Qu.    Max. \n",
       "-6.8260 -0.5120  0.6959  1.5467  2.8176 21.4184 "
      ]
     },
     "metadata": {},
     "output_type": "display_data"
    },
    {
     "data": {
      "text/html": [
       "'Irvine'"
      ],
      "text/latex": [
       "'Irvine'"
      ],
      "text/markdown": [
       "'Irvine'"
      ],
      "text/plain": [
       "[1] \"Irvine\""
      ]
     },
     "metadata": {},
     "output_type": "display_data"
    },
    {
     "data": {
      "text/html": [
       "'St. Louis'"
      ],
      "text/latex": [
       "'St. Louis'"
      ],
      "text/markdown": [
       "'St. Louis'"
      ],
      "text/plain": [
       "[1] \"St. Louis\""
      ]
     },
     "metadata": {},
     "output_type": "display_data"
    },
    {
     "data": {
      "text/html": [
       "'Chandler'"
      ],
      "text/latex": [
       "'Chandler'"
      ],
      "text/markdown": [
       "'Chandler'"
      ],
      "text/plain": [
       "[1] \"Chandler\""
      ]
     },
     "metadata": {},
     "output_type": "display_data"
    },
    {
     "data": {
      "text/html": [
       "'St. Louis'"
      ],
      "text/latex": [
       "'St. Louis'"
      ],
      "text/markdown": [
       "'St. Louis'"
      ],
      "text/plain": [
       "[1] \"St. Louis\""
      ]
     },
     "metadata": {},
     "output_type": "display_data"
    },
    {
     "data": {
      "text/html": [
       "'Buffalo'"
      ],
      "text/latex": [
       "'Buffalo'"
      ],
      "text/markdown": [
       "'Buffalo'"
      ],
      "text/plain": [
       "[1] \"Buffalo\""
      ]
     },
     "metadata": {},
     "output_type": "display_data"
    },
    {
     "data": {
      "text/html": [
       "'Baltimore'"
      ],
      "text/latex": [
       "'Baltimore'"
      ],
      "text/markdown": [
       "'Baltimore'"
      ],
      "text/plain": [
       "[1] \"Baltimore\""
      ]
     },
     "metadata": {},
     "output_type": "display_data"
    }
   ],
   "source": [
    "summary(murders_rate_2014)\n",
    "summary(murders_rate_2015)\n",
    "summary(diff_rate)\n",
    "\n",
    "(city[murders_rate_2014 == min(murders_rate_2014)])\n",
    "(city[murders_rate_2014 == max(murders_rate_2014)])\n",
    "\n",
    "(city[murders_rate_2015 == min(murders_rate_2015)])\n",
    "(city[murders_rate_2015 == max(murders_rate_2015)])\n",
    "\n",
    "\n",
    "(city[diff_rate == min(diff_rate)])\n",
    "(city[diff_rate == max(diff_rate)])"
   ]
  },
  {
   "cell_type": "markdown",
   "id": "b5b2b0ea",
   "metadata": {},
   "source": [
    "W roku 2014 średni współczynnik morderstw na 100 tys mieszkańców wynosi 10,248. Najbezpieczniejszym miastem było Irvine ze współczynnikiem 0, a najmniej bezpicznym St.Louis ze współczynnikiem 52.898 morderstw na 100 tyś mieszkańców.\n",
    "\n",
    "W roku 2015 średni współczynnik morderstw na 100 tys mieszkańców wynosi 11.7943 . Najbezpieczniejszym miastem było Chandler ze współczynnikiem 0.3623, a najmniej bezpicznym St.Louis ze współczynnikiem 62.5466 morderstw na 100 tyś mieszkańców.\n",
    "\n",
    "Średnia zmiana współczynnika morderstw ukształtowała się na poziomie 1,5467 co oznacza wzrost wskaźnika morderstw. Z kolei największy spadek liczby morderstw odnotowano w mieście Buffalo (-6,826), zaś najwiekszy wzrost charakteryzowało miasto Baltimore (21.4184).\n"
   ]
  },
  {
   "cell_type": "markdown",
   "id": "5467e3cd",
   "metadata": {},
   "source": [
    "#### Miary zmienności"
   ]
  },
  {
   "cell_type": "code",
   "execution_count": 7,
   "id": "30ba5763",
   "metadata": {},
   "outputs": [
    {
     "data": {
      "text/html": [
       "94.6337292035006"
      ],
      "text/latex": [
       "94.6337292035006"
      ],
      "text/markdown": [
       "94.6337292035006"
      ],
      "text/plain": [
       "[1] 94.63373"
      ]
     },
     "metadata": {},
     "output_type": "display_data"
    },
    {
     "data": {
      "text/html": [
       "9.727986903954"
      ],
      "text/latex": [
       "9.727986903954"
      ],
      "text/markdown": [
       "9.727986903954"
      ],
      "text/plain": [
       "[1] 9.727987"
      ]
     },
     "metadata": {},
     "output_type": "display_data"
    },
    {
     "data": {
      "text/html": [
       "134.95518629078"
      ],
      "text/latex": [
       "134.95518629078"
      ],
      "text/markdown": [
       "134.95518629078"
      ],
      "text/plain": [
       "[1] 134.9552"
      ]
     },
     "metadata": {},
     "output_type": "display_data"
    },
    {
     "data": {
      "text/html": [
       "11.6170214035604"
      ],
      "text/latex": [
       "11.6170214035604"
      ],
      "text/markdown": [
       "11.6170214035604"
      ],
      "text/plain": [
       "[1] 11.61702"
      ]
     },
     "metadata": {},
     "output_type": "display_data"
    },
    {
     "data": {
      "text/html": [
       "15.2420465973317"
      ],
      "text/latex": [
       "15.2420465973317"
      ],
      "text/markdown": [
       "15.2420465973317"
      ],
      "text/plain": [
       "[1] 15.24205"
      ]
     },
     "metadata": {},
     "output_type": "display_data"
    },
    {
     "data": {
      "text/html": [
       "3.90410637628276"
      ],
      "text/latex": [
       "3.90410637628276"
      ],
      "text/markdown": [
       "3.90410637628276"
      ],
      "text/plain": [
       "[1] 3.904106"
      ]
     },
     "metadata": {},
     "output_type": "display_data"
    }
   ],
   "source": [
    "(var_murders_rate_2014 <- var(murders_rate_2014))\n",
    "(sd_murders_rate_2014 <- sd(murders_rate_2014))\n",
    "\n",
    "(var_murders_rate_2015 <- var(murders_rate_2015))\n",
    "(sd_murders_rate_2015 <- sd(murders_rate_2015))\n",
    "\n",
    "(var_diff_rate <- var(diff_rate))\n",
    "(sd_diff_rate <- sd(diff_rate))\n"
   ]
  },
  {
   "cell_type": "markdown",
   "id": "feacad5a",
   "metadata": {},
   "source": [
    "Wariancja współczynnika morderstw w 2014 roku wynosi 94,63. Odchylenie standardowe - 9,728 \n",
    "\n",
    "Wariancja współczynnika morderstw w 2015 roku wynosi 134,95. Odchylenie standardowe - 11,617\n",
    "\n",
    "Wariancja różnicy współczynnika morderstw wynosi 15,242. Odchylenie standardowe - 3,904"
   ]
  },
  {
   "cell_type": "markdown",
   "id": "752a9f30",
   "metadata": {},
   "source": [
    "#### Miary skośności"
   ]
  },
  {
   "cell_type": "markdown",
   "id": "9ad3d60f",
   "metadata": {},
   "source": [
    "Liczbę przedziałów dla szerego rozdzielczego obliczam za pomocą wzoru $k = \\sqrt{n}$, gdzie n to liczba badanych miast."
   ]
  },
  {
   "cell_type": "code",
   "execution_count": 8,
   "id": "52fbdb4b",
   "metadata": {
    "scrolled": false
   },
   "outputs": [
    {
     "data": {
      "text/plain": [
       "   Min. 1st Qu.  Median    Mean 3rd Qu.    Max. \n",
       "  0.000   4.170   6.729  10.248  14.876  52.898 "
      ]
     },
     "metadata": {},
     "output_type": "display_data"
    },
    {
     "data": {
      "text/plain": [
       "   Min. 1st Qu.  Median    Mean 3rd Qu.    Max. \n",
       " 0.3623  4.7900  8.3399 11.7943 15.1685 62.5466 "
      ]
     },
     "metadata": {},
     "output_type": "display_data"
    },
    {
     "data": {
      "text/plain": [
       "   Min. 1st Qu.  Median    Mean 3rd Qu.    Max. \n",
       "-6.8260 -0.5120  0.6959  1.5467  2.8176 21.4184 "
      ]
     },
     "metadata": {},
     "output_type": "display_data"
    },
    {
     "data": {
      "image/png": "[encoded data removed]",
      "text/plain": [
       "Plot with title \"Współczynnik morderstw na 100 tyś mieszkańców w 2014\""
      ]
     },
     "metadata": {
      "image/png": {
       "height": 420,
       "width": 420
      }
     },
     "output_type": "display_data"
    }
   ],
   "source": [
    "k <- round(sqrt(nrow(data)))\n",
    "hist(murders_rate_2014, breaks=k, main=\"Współczynnik morderstw na 100 tyś mieszkańców w 2014\")\n",
    "summary(murders_rate_2014)\n",
    "summary(murders_rate_2015)\n",
    "summary(diff_rate)"
   ]
  },
  {
   "cell_type": "markdown",
   "id": "7cf7784d",
   "metadata": {},
   "source": [
    "Szereg o dodatniej asymetrii, mediana mniejsza od średniej, większość danych skupia się wokół wartości od 0 do 10. Mamy również kilka wartości oddstających, które charakteryzują się nawet kilkukrotnie wyższym współczynnikiem morderstw niż średni współczynnik \n",
    "\n",
    "\n",
    "miasta, w których liczba morderstw jest na 100 tyś mieszkańców znacznie odbiega od wartości przeciętnych."
   ]
  },
  {
   "cell_type": "code",
   "execution_count": 9,
   "id": "4c8f3a62",
   "metadata": {
    "scrolled": false
   },
   "outputs": [
    {
     "data": {
      "image/png": "[encoded data removed]",
      "text/plain": [
       "Plot with title \"Współczynnik morderstw na 100 tyś mieszkańców w 2015\""
      ]
     },
     "metadata": {
      "image/png": {
       "height": 420,
       "width": 420
      }
     },
     "output_type": "display_data"
    }
   ],
   "source": [
    "hist(murders_rate_2015, breaks=k, main=\"Współczynnik morderstw na 100 tyś mieszkańców w 2015\")"
   ]
  },
  {
   "cell_type": "markdown",
   "id": "ebc567d4",
   "metadata": {},
   "source": [
    "Również mamy do czynienia z szeregiem prawostronnie skośnym oraz mamy kilka wartości odstających."
   ]
  },
  {
   "cell_type": "code",
   "execution_count": 10,
   "id": "f2eb83bf",
   "metadata": {},
   "outputs": [
    {
     "data": {
      "image/png": "[encoded data removed]",
      "text/plain": [
       "Plot with title \"Zmiana wskaźnika morderstw\""
      ]
     },
     "metadata": {
      "image/png": {
       "height": 420,
       "width": 420
      }
     },
     "output_type": "display_data"
    }
   ],
   "source": [
    "hist(diff_rate, breaks=k, main=\"Zmiana wskaźnika morderstw\")"
   ]
  },
  {
   "cell_type": "markdown",
   "id": "6e9cc56f",
   "metadata": {},
   "source": [
    "Większość danych jest w przedziale od -5 do 5. Wykres jest w dużym przybliżeniu symetryczny i zbliżony do rozkładu normalnego."
   ]
  },
  {
   "cell_type": "markdown",
   "id": "6c8a0f22",
   "metadata": {},
   "source": [
    "## Test statystyczny\n",
    "\n",
    "\n",
    "Test ma na celu zbadanie czy ilość morderstw w Stanach Zjednoczonych 2015 zmieniła się w stosunku do roku 2014. Przyjmuję poziom istotności na poziomie 5%.\n"
   ]
  },
  {
   "cell_type": "markdown",
   "id": "99816a16",
   "metadata": {},
   "source": [
    "Liczba morderstw w roku 2014 i 2015 w pojedynczym mieście jest od siebie zależna, natomiast ilość morderstw w różnych miastach nie jest - mamy do czynienia z danymi sparowanymi. Aby pozbyć się zależności wyznaczam różnicę między liczbą morderstw w danym mieście w roku 2015 i 2014. "
   ]
  },
  {
   "cell_type": "code",
   "execution_count": 11,
   "id": "3e1d836e",
   "metadata": {},
   "outputs": [],
   "source": [
    "diffrence <- murders_2015 - murders_2014"
   ]
  },
  {
   "cell_type": "markdown",
   "id": "2c93e11b",
   "metadata": {},
   "source": [
    "Wielkość próby wynosi 83 więc zgodnie z Centralnym Twierdzeniem Granicznym rozkład będzie dążył do rozkładu normalnego.\n",
    "Również mamy nieznaną wariancję w populacji więc wyestymuję ją z próbki. Założenie testu T-studenta są spełnione więc mogę z niego skorzystać.\n"
   ]
  },
  {
   "cell_type": "markdown",
   "id": "2ad8ddfd",
   "metadata": {},
   "source": [
    "$H_0$: $µ_{diff} = 0$\n",
    "\n",
    "$H_1$: $µ_{diff}  \\ne 0$\n",
    "\n",
    "$T_{n-1} = \\frac{\\bar{X} -µ_{diff}}{S}  \\sqrt{n}  $"
   ]
  },
  {
   "cell_type": "code",
   "execution_count": 12,
   "id": "c74ea6f2",
   "metadata": {},
   "outputs": [
    {
     "data": {
      "text/html": [
       "4.05738379300757"
      ],
      "text/latex": [
       "4.05738379300757"
      ],
      "text/markdown": [
       "4.05738379300757"
      ],
      "text/plain": [
       "[1] 4.057384"
      ]
     },
     "metadata": {},
     "output_type": "display_data"
    }
   ],
   "source": [
    "n = length(diffrence)\n",
    "X = mean(diffrence)\n",
    "S = sd(diffrence)\n",
    "(t = X * sqrt(n) / S)\n",
    "\n",
    "alpha = 0.05\n",
    "# test dwustronny\n",
    "zb_kryt_l <- qt(p=alpha/2, df=n-1)\n",
    "zb_kryt_p <- qt(p=(1 - alpha/2), df=n-1)\n",
    "\n",
    "\n"
   ]
  },
  {
   "cell_type": "code",
   "execution_count": 13,
   "id": "b50d9263",
   "metadata": {},
   "outputs": [
    {
     "data": {
      "image/png": "[encoded data removed]",
      "text/plain": [
       "plot without title"
      ]
     },
     "metadata": {
      "image/png": {
       "height": 420,
       "width": 420
      }
     },
     "output_type": "display_data"
    }
   ],
   "source": [
    "x <- seq(-4, 4, length=100)\n",
    "y <- dt(x, df=n-1)\n",
    "\n",
    "#plot x and y as a scatterplot with connected lines (type = \"l\") and add\n",
    "#an x-axis with custom labels\n",
    "plot(x,y, type = \"l\", lwd = 2,, xlab = \"x\", ylab = \"probability\")\n",
    "abline(v=zb_kryt_l )\n",
    "abline(v=zb_kryt_p)\n",
    "\n",
    "x2 <- seq(-4,zb_kryt_l, 0.01)\n",
    "y2 <-  dt(x2, df=n-1)\n",
    "x2 = c(-4,x2,zb_kryt_l)\n",
    "y2 = c(0,y2,0)\n",
    "polygon(x2,y2, col=\"red\", border=NA)\n",
    "\n",
    "x3 <- seq(zb_kryt_p, 4, 0.01)\n",
    "y3 <-  dt(x3, df=n-1)\n",
    "x3 = c(zb_kryt_p,x3, 4)\n",
    "y3 = c(0,y3,0)\n",
    "polygon(x3,y3, col=\"red\", border=NA)"
   ]
  },
  {
   "cell_type": "markdown",
   "id": "b619dec9",
   "metadata": {},
   "source": [
    "$T_{82} = 4.05738379300757 $\n",
    "\n",
    "Zbiór krytyczny - $(-\\infty , -1,989) + (1,989, +\\infty) $\n",
    "\n",
    "Obszar krytyczny został oznaczony na wykresie kolorem czerwonym.\n",
    "\n",
    "Statystyka T znajduje się w zbiorze krytycznym, zatem odrzucam hipotezę zerową i przyjmuję aternatywną. Liczba morderstw zmieniła się w 2015 roku w stosunku do roku 2014. \n"
   ]
  },
  {
   "cell_type": "markdown",
   "id": "f17c78c1",
   "metadata": {},
   "source": [
    "### Analiza regresji"
   ]
  },
  {
   "cell_type": "markdown",
   "id": "152f3bc2",
   "metadata": {},
   "source": [
    "Celem badania będzie weryfikacja czy liczba morderstw jest zależna liniowo od liczby mieszkańców w danym mieście."
   ]
  },
  {
   "cell_type": "code",
   "execution_count": 21,
   "id": "165c348e",
   "metadata": {},
   "outputs": [
    {
     "data": {
      "text/html": [
       "0.671791177712695"
      ],
      "text/latex": [
       "0.671791177712695"
      ],
      "text/markdown": [
       "0.671791177712695"
      ],
      "text/plain": [
       "[1] 0.6717912"
      ]
     },
     "metadata": {},
     "output_type": "display_data"
    },
    {
     "data": {
      "image/png": "[encoded data removed]",
      "text/plain": [
       "Plot with title \"Wykres dla roku 2014\""
      ]
     },
     "metadata": {
      "image/png": {
       "height": 420,
       "width": 420
      }
     },
     "output_type": "display_data"
    }
   ],
   "source": [
    "plot(population, murders_2014, main=\"Wykres dla roku 2014\")\n",
    "cor(population, murders_2014)"
   ]
  },
  {
   "cell_type": "markdown",
   "id": "e6cf0795",
   "metadata": {},
   "source": [
    "Współczynnik korelacji wynosi 0.671 (większy od 0) co oznacza że występuje pewna zależność, im więcej ludzi zamieszkuje dany teren tym więcej odnotowujemy tam zabójstw. Oczywiście nie jest to zależność liniowa, gdyż są inne czynniki, które powodują wzrost badź spadek liczby morderstw. Wpływ ma przede wszystkim infrastruktura ekonomiczna (bezrobocie, inflacja), społeczno-kulturowa(poziom życia, edukacja, styl życia, normy etyczne) oraz gospodarcza."
   ]
  }
 ],
 "metadata": {
  "kernelspec": {
   "display_name": "R",
   "language": "R",
   "name": "ir"
  },
  "language_info": {
   "codemirror_mode": "r",
   "file_extension": ".r",
   "mimetype": "text/x-r-source",
   "name": "R",
   "pygments_lexer": "r",
   "version": "4.1.3"
  }
 },
 "nbformat": 4,
 "nbformat_minor": 5
}
